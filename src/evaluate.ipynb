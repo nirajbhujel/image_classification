{
 "cells": [
  {
   "cell_type": "code",
   "execution_count": 38,
   "id": "8167b787-30bd-4479-bc97-e536126b20a6",
   "metadata": {},
   "outputs": [
    {
     "name": "stdout",
     "output_type": "stream",
     "text": [
      "The autoreload extension is already loaded. To reload it, use:\n",
      "  %reload_ext autoreload\n"
     ]
    }
   ],
   "source": [
    "import os\n",
    "import sys\n",
    "import numpy as np\n",
    "\n",
    "import time\n",
    "import json\n",
    "import yaml\n",
    "import pickle\n",
    "import math\n",
    "import shutil\n",
    "import hydra\n",
    "\n",
    "from tqdm import tqdm\n",
    "from datetime import datetime\n",
    "from omegaconf import DictConfig, OmegaConf\n",
    "from collections import defaultdict, Counter\n",
    "\n",
    "import matplotlib\n",
    "import matplotlib.pyplot as plt\n",
    "\n",
    "import torch\n",
    "import torch.nn.functional as F\n",
    "from torch.utils.data import DataLoader\n",
    "\n",
    "from datasets.dataset import LaserImageDataset, get_transforms\n",
    "from datasets.preprocess import generate_html\n",
    "from models.network import Network\n",
    "\n",
    "from utils.metrics import MetricLogger\n",
    "from utils.misc import create_new_dir, copy_src, save_file\n",
    "from utils.utils import set_random_seed, model_parameters\n",
    "\n",
    "%load_ext autoreload\n",
    "%autoreload 2"
   ]
  },
  {
   "cell_type": "markdown",
   "id": "45892801-01f6-43f0-bc94-51cc64cdca61",
   "metadata": {},
   "source": [
    "## Specify the experiment to evaluate"
   ]
  },
  {
   "cell_type": "code",
   "execution_count": 2,
   "id": "9672e111-2a51-4857-adf1-2cfdb8cad2cd",
   "metadata": {},
   "outputs": [
    {
     "name": "stdout",
     "output_type": "stream",
     "text": [
      "Evaluating exp : session001/exp1_PointCNN_Grating_A6_Grating_SON1_LASEROPTIK_LASEROPTIK_SON1_seed3061994_lr0.0003_e500_b64\n"
     ]
    }
   ],
   "source": [
    "exp_dir = 'session001/exp1_PointCNN_Grating_A6_Grating_SON1_LASEROPTIK_LASEROPTIK_SON1_seed3061994_lr0.0003_e500_b64'\n",
    "print(\"Evaluating exp :\", exp_dir)\n",
    "\n",
    "log_dir = \"../logs/\" + exp_dir\n",
    "ckpt_dir = log_dir + \"/checkpoints\"\n",
    "\n",
    "if not os.path.exists(log_dir):\n",
    "    raise Exception(f\"{log_dir} doesn't exists\")\n"
   ]
  },
  {
   "cell_type": "markdown",
   "id": "bef51de7-a109-4f03-b9f2-8526f572683f",
   "metadata": {},
   "source": [
    "## Load cfg "
   ]
  },
  {
   "cell_type": "code",
   "execution_count": 3,
   "id": "25a572a8-7e2d-454b-9857-43fd26ef106d",
   "metadata": {},
   "outputs": [
    {
     "name": "stdout",
     "output_type": "stream",
     "text": [
      "seeds:\n",
      "- 3061994\n",
      "task: classification\n",
      "num_classes: 2\n",
      "net:\n",
      "  type: PointCNN\n",
      "  hidden_dim: 512\n",
      "  out_dim: 512\n",
      "loss:\n",
      "  bce_loss:\n",
      "    weight: 1.0\n",
      "    learn_weight: false\n",
      "  mse_loss:\n",
      "    weight: 0.0\n",
      "    learn_weight: false\n",
      "optim:\n",
      "  lr: 0.0003\n",
      "  lr_min: 1.0e-06\n",
      "  lr_scheduler: reduceonplateau\n",
      "  warmup_epochs: 0\n",
      "  lr_patience: 10\n",
      "  lr_reduce_factor: 0.9\n",
      "  lr_adjust: false\n",
      "  lr_adjust_rule: ''\n",
      "  weight_decay: 0\n",
      "  weight_decay_end: 1.0\n",
      "  clip_grad: 1.0\n",
      "data:\n",
      "  img_height: 480\n",
      "  img_width: 480\n",
      "  n_channels: 1\n",
      "  aug_photo: 0.0\n",
      "  aug_geome: 0.5\n",
      "  data_dir: ../data/near_field\n",
      "  datasets:\n",
      "  - Grating_A6\n",
      "  - Grating_SON1\n",
      "  - LASEROPTIK\n",
      "  - LASEROPTIK_SON1\n",
      "  val_split: 0.4\n",
      "  prefetch: 1\n",
      "train:\n",
      "  session: 1\n",
      "  epochs: 500\n",
      "  batch_size: 64\n",
      "  num_workers: 1\n",
      "  gpu: 0\n",
      "  ddp: false\n",
      "  dist_run: false\n",
      "  resume_training: false\n",
      "  single_batch: false\n",
      "  debug: false\n",
      "  early_stop_metric: val/acc\n",
      "  early_stop_patience: 20\n",
      "  eval_interval: 10\n",
      "  log_interval: 100\n",
      "  n_images: 20\n",
      "  eval_metric: val/acc\n",
      "  train_skip_frames: 1\n",
      "  test_skip_frames: 1\n",
      "  reset_head_steps: null\n",
      "  network_in: null\n",
      "exp:\n",
      "  name: exp1\n",
      "  log_dir: ../logs/session001/exp1_PointCNN_Grating_A6_Grating_SON1_LASEROPTIK_LASEROPTIK_SON1_seed3061994_lr0.0003_e500_b64\n",
      "  ckpt_dir: ../logs/session001/exp1_PointCNN_Grating_A6_Grating_SON1_LASEROPTIK_LASEROPTIK_SON1_seed3061994_lr0.0003_e500_b64/checkpoints\n",
      "  summary_dir: ../logs/session001/exp1_PointCNN_Grating_A6_Grating_SON1_LASEROPTIK_LASEROPTIK_SON1_seed3061994_lr0.0003_e500_b64/summary\n",
      "  seed: 3061994\n",
      "\n"
     ]
    }
   ],
   "source": [
    "# load config\n",
    "cfg = OmegaConf.load(log_dir + '/cfg.yaml')\n",
    "print(OmegaConf.to_yaml(cfg))"
   ]
  },
  {
   "cell_type": "markdown",
   "id": "ff6a405f-928e-4db6-94e7-bb24f7583d86",
   "metadata": {},
   "source": [
    "## Load model from checkpoint"
   ]
  },
  {
   "cell_type": "code",
   "execution_count": 4,
   "id": "4b87d8b6-7990-4832-a71e-1d5bdf67d42c",
   "metadata": {},
   "outputs": [
    {
     "name": "stdout",
     "output_type": "stream",
     "text": [
      "Loading Checkpoint from  ../logs/session001/exp1_PointCNN_Grating_A6_Grating_SON1_LASEROPTIK_LASEROPTIK_SON1_seed3061994_lr0.0003_e500_b64/checkpoints/best_acc\n",
      "Network(\n",
      "  (net): PointCNN(\n",
      "    (conv1): Conv2d(1, 32, kernel_size=(3, 3), stride=(1, 1), padding=(1, 1))\n",
      "    (conv2): Conv2d(32, 64, kernel_size=(3, 3), stride=(2, 2), padding=(1, 1))\n",
      "    (conv3): Conv2d(64, 128, kernel_size=(3, 3), stride=(2, 2), padding=(1, 1))\n",
      "    (conv4): Conv2d(128, 256, kernel_size=(3, 3), stride=(2, 2), padding=(1, 1))\n",
      "    (res1_conv1): Conv2d(256, 256, kernel_size=(3, 3), stride=(1, 1), padding=(1, 1))\n",
      "    (res1_conv2): Conv2d(256, 256, kernel_size=(1, 1), stride=(1, 1))\n",
      "    (res1_conv3): Conv2d(256, 256, kernel_size=(3, 3), stride=(1, 1), padding=(1, 1))\n",
      "    (res2_conv1): Conv2d(256, 512, kernel_size=(3, 3), stride=(1, 1), padding=(1, 1))\n",
      "    (res2_conv2): Conv2d(512, 512, kernel_size=(1, 1), stride=(1, 1))\n",
      "    (res2_conv3): Conv2d(512, 512, kernel_size=(3, 3), stride=(1, 1), padding=(1, 1))\n",
      "    (res2_skip): Conv2d(256, 512, kernel_size=(1, 1), stride=(1, 1))\n",
      "  )\n",
      "  (head): MLP(\n",
      "    (flat): Flatten(start_dim=1, end_dim=-1)\n",
      "    (act): ReLU()\n",
      "    (drop): Dropout(p=0.0, inplace=False)\n",
      "    (fc1): Linear(in_features=512, out_features=256, bias=True)\n",
      "    (fc2): Linear(in_features=256, out_features=128, bias=True)\n",
      "    (fc3): Linear(in_features=128, out_features=2, bias=True)\n",
      "  )\n",
      ")\n",
      "Model loaded sucessfully!\n"
     ]
    }
   ],
   "source": [
    "ckpt_name = 'best_acc'\n",
    "print(\"Loading Checkpoint from \", ckpt_dir + '/' + ckpt_name)\n",
    "network = Network(cfg)\n",
    "print(network)\n",
    "\n",
    "states = torch.load(ckpt_dir + '/' + ckpt_name + '.pth')\n",
    "if ckpt_name == 'model_states':\n",
    "    states = states['model_state']\n",
    "\n",
    "network.load_state_dict(states, strict=True)\n",
    "network = network.eval()\n",
    "print(\"Model loaded sucessfully!\")"
   ]
  },
  {
   "cell_type": "markdown",
   "id": "ce655bdf-c977-4e18-ad83-c6ee73484be0",
   "metadata": {},
   "source": [
    "## Create dataloader"
   ]
  },
  {
   "cell_type": "code",
   "execution_count": 5,
   "id": "9feb4b5f-8372-4fab-a1f7-bea243a064d5",
   "metadata": {},
   "outputs": [
    {
     "name": "stdout",
     "output_type": "stream",
     "text": [
      "Splitting THALES_SESO_A labels into train and validaton set\n",
      "Class 0: 6503/8100 val samples\n",
      "Class 1: 1597/8100 val samples\n",
      "Evaluation samples: 8100, Bathces: 8100\n"
     ]
    }
   ],
   "source": [
    "cfg.data.datasets = ['THALES_SESO_A']\n",
    "cfg.data.prefetch = False\n",
    "cfg.data.val_split = 1\n",
    "eval_dataset = LaserImageDataset(cfg.data,\n",
    "                                phase='val',\n",
    "                                img_transform=get_transforms(cfg.data, \"val\"),\n",
    "                                num_classes=cfg.num_classes,\n",
    "                                balanced_class=False,\n",
    "                                shuffle_labels=False,\n",
    "                                )\n",
    "\n",
    "eval_dataloader = DataLoader(eval_dataset, batch_size=1, shuffle=False, num_workers=1)\n",
    "\n",
    "print(f\"Evaluation samples: {len(eval_dataset)}, Bathces: {len(eval_dataloader)}\")\n"
   ]
  },
  {
   "cell_type": "markdown",
   "id": "3d5b184b-ccc5-457b-b055-10ec0570713e",
   "metadata": {},
   "source": [
    "## Prepare "
   ]
  },
  {
   "cell_type": "code",
   "execution_count": 6,
   "id": "178ce34d-c878-4a77-b7e6-3aa3d75fec59",
   "metadata": {},
   "outputs": [],
   "source": [
    "set_random_seed(cfg.exp.seed)\n",
    "\n",
    "device = torch.device(\"cuda:0\")\n",
    "network = network.to(device)\n",
    "\n",
    "date_time = datetime.now().strftime(\"%d%m%Y\")\n",
    "# date_time = datetime.now().strftime(\"%d%m%Y_%H%M%S\")\n",
    "\n",
    "result_dir = log_dir + f\"/evaluations/{date_time}_{'_'.join(cfg.data.datasets)}\""
   ]
  },
  {
   "cell_type": "code",
   "execution_count": 25,
   "id": "52fff405-0093-4e58-ab2b-192299a44e59",
   "metadata": {},
   "outputs": [],
   "source": [
    "#! pip install scikit-learn\n",
    "from sklearn.metrics import confusion_matrix, ConfusionMatrixDisplay"
   ]
  },
  {
   "cell_type": "markdown",
   "id": "10569c06-7e3b-4e17-9de4-c83fd7cfb38a",
   "metadata": {},
   "source": [
    "## Evaluate"
   ]
  },
  {
   "cell_type": "code",
   "execution_count": 39,
   "id": "1803093f-57c8-4ec6-97f7-cb3474a60037",
   "metadata": {},
   "outputs": [
    {
     "name": "stderr",
     "output_type": "stream",
     "text": [
      "100%|██████████| 8100/8100 [03:46<00:00, 35.78it/s, 1.000000] \n",
      "100%|██████████| 8100/8100 [00:36<00:00, 220.82it/s, 1.000000]"
     ]
    },
    {
     "name": "stdout",
     "output_type": "stream",
     "text": [
      "Metric           tp       fp       tn       fn       accuracy    precision\n",
      "---------------  -------  -------  -------  -------  ----------  -----------\n",
      "binary_accuracy  1587.00  117.00   6386.00  10.00    0.98        0.99\n",
      "-------          -------  -------  -------  -------  -------     -------\n",
      "Accuracy: 0.984320987654321, Precision:0.982008303859757, Recall: 0.9984365228267668\n"
     ]
    },
    {
     "data": {
      "text/plain": [
       "<sklearn.metrics._plot.confusion_matrix.ConfusionMatrixDisplay at 0x7f6ba0260320>"
      ]
     },
     "execution_count": 39,
     "metadata": {},
     "output_type": "execute_result"
    },
    {
     "data": {
      "image/png": "[encoded data removed]",
      "text/plain": [
       "<Figure size 640x480 with 2 Axes>"
      ]
     },
     "metadata": {},
     "output_type": "display_data"
    },
    {
     "name": "stderr",
     "output_type": "stream",
     "text": [
      "100%|██████████| 8100/8100 [00:54<00:00, 220.82it/s, 1.000000]"
     ]
    }
   ],
   "source": [
    "from utils.metrics import MetricLogger\n",
    "from torchmetrics.classification import BinaryAccuracy\n",
    "# eval_metrics = BinaryAccuracy().to(device)\n",
    "\n",
    "eval_metrics = MetricLogger()\n",
    "\n",
    "eval_results = [] \n",
    "acc_list = []\n",
    "pred_labels = []\n",
    "gt_labels = []\n",
    "pbar = tqdm(total=len(eval_dataloader), position=0)\n",
    "with torch.no_grad():\n",
    "    for iter, batch in enumerate(eval_dataloader):\n",
    "        pbar.update(1)\n",
    "\n",
    "        imgs, labels, img_files = batch\n",
    "\n",
    "        imgs = imgs.to(device)\n",
    "        labels = labels.to(device)\n",
    "\n",
    "        preds = network(imgs)\n",
    "        # preds = F.softmax(preds, dim=-1)\n",
    "        # print(labels)\n",
    "        pred_labels.append(preds.cpu().numpy())\n",
    "        gt_labels.append(labels.cpu().numpy())\n",
    "        \n",
    "        \n",
    "        acc = eval_metrics(preds.argmax(-1).to(device), labels.argmax(-1).to(device))\n",
    "        # acc = eval_metrics.update(preds.to(device), labels.to(device))\n",
    "\n",
    "        for f, l, p in zip(img_files, labels, preds):\n",
    "            eval_results.append(dict(img=f, label=l.argmax().item(), pred=p.argmax().item(), prob=p.max().item()))\n",
    "            \n",
    "        pbar.set_postfix_str(f\"{acc:03f}\")\n",
    "        # break\n",
    "\n",
    "eval_metrics.compute()\n",
    "\n",
    "cm = confusion_matrix([l.argmax() for l in gt_labels], [l.argmax() for l in pred_labels])\n",
    "print(f\"Accuracy: {(6386+1587)/(6386+1587+117+10)}, Precision:{(6386)/(6386+117)}, Recall: {(6386)/(6386+10)}\")\n",
    "ConfusionMatrixDisplay(cm, display_labels=[0,1]).plot()"
   ]
  },
  {
   "cell_type": "code",
   "execution_count": 27,
   "id": "065cf3fe-abe0-4f30-a635-2bb9dc4eb446",
   "metadata": {},
   "outputs": [
    {
     "data": {
      "text/plain": [
       "<sklearn.metrics._plot.confusion_matrix.ConfusionMatrixDisplay at 0x7f6cad2f2f60>"
      ]
     },
     "execution_count": 27,
     "metadata": {},
     "output_type": "execute_result"
    },
    {
     "data": {
      "image/png": "[encoded data removed]",
      "text/plain": [
       "<Figure size 640x480 with 2 Axes>"
      ]
     },
     "metadata": {},
     "output_type": "display_data"
    }
   ],
   "source": [
    "\n"
   ]
  },
  {
   "cell_type": "code",
   "execution_count": 33,
   "id": "aa738df1-0167-4eb2-800f-a3c02a409cc3",
   "metadata": {},
   "outputs": [
    {
     "data": {
      "text/plain": [
       "'Accuracy: 0.984320987654321, Precision:0.982008303859757, Recall: 0.9984365228267668'"
      ]
     },
     "execution_count": 33,
     "metadata": {},
     "output_type": "execute_result"
    }
   ],
   "source": []
  },
  {
   "cell_type": "markdown",
   "id": "4dc235ee-945a-4762-83ca-0a09509ac5ba",
   "metadata": {},
   "source": [
    "## Save results to HTML"
   ]
  },
  {
   "cell_type": "code",
   "execution_count": 8,
   "id": "0fced155-eb97-4a3c-8b28-6223d3b835dd",
   "metadata": {},
   "outputs": [],
   "source": [
    "data_dir = os.path.join(os.getcwd(), \"../data/near_field/images/\")\n",
    "\n",
    "html_data = generate_html(eval_results, data_dir, title='Eval Results')\n",
    "save_file(f'{log_dir}/eval_results.html', html_data)"
   ]
  },
  {
   "cell_type": "code",
   "execution_count": 37,
   "id": "b0e41bb9-38c4-4ad1-9938-7536c21ede90",
   "metadata": {},
   "outputs": [
    {
     "data": {
      "text/plain": [
       "tensor(0.9843, device='cuda:0')"
      ]
     },
     "execution_count": 37,
     "metadata": {},
     "output_type": "execute_result"
    },
    {
     "name": "stderr",
     "output_type": "stream",
     "text": [
      "100%|██████████| 8100/8100 [01:00<00:00, 182.24it/s, 1.000000]"
     ]
    }
   ],
   "source": [
    "eval_metrics.compute()"
   ]
  }
 ],
 "metadata": {
  "kernelspec": {
   "display_name": "laser-damage",
   "language": "python",
   "name": "laser-damage"
  },
  "language_info": {
   "codemirror_mode": {
    "name": "ipython",
    "version": 3
   },
   "file_extension": ".py",
   "mimetype": "text/x-python",
   "name": "python",
   "nbconvert_exporter": "python",
   "pygments_lexer": "ipython3",
   "version": "3.12.3"
  }
 },
 "nbformat": 4,
 "nbformat_minor": 5
}
