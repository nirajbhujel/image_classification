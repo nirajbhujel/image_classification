{
 "cells": [
  {
   "cell_type": "code",
   "execution_count": 1,
   "id": "e5b104aa",
   "metadata": {},
   "outputs": [],
   "source": [
    "import os\n",
    "import sys\n",
    "import cv2\n",
    "import shutil\n",
    "import math\n",
    "\n",
    "from collections import defaultdict\n",
    "from glob import glob\n",
    "from PIL import Image\n",
    "from tqdm import tqdm\n",
    "\n",
    "import matplotlib.pyplot as plt\n",
    "import matplotlib as mpl\n",
    "\n",
    "import numpy as np\n",
    "\n",
    "%load_ext autoreload\n",
    "%autoreload 2\n",
    "\n",
    "from visualization.vis_utils import *\n"
   ]
  },
  {
   "cell_type": "code",
   "execution_count": 5,
   "id": "7c8cbbe5",
   "metadata": {},
   "outputs": [
    {
     "data": {
      "text/plain": [
       "('2.0.1', False)"
      ]
     },
     "execution_count": 5,
     "metadata": {},
     "output_type": "execute_result"
    }
   ],
   "source": [
    "import torch\n",
    "torch.__version__, torch.cuda.is_available()"
   ]
  },
  {
   "cell_type": "markdown",
   "id": "152ee9ce",
   "metadata": {},
   "source": [
    "# Visualize burst shots for each location in a single "
   ]
  },
  {
   "cell_type": "code",
   "execution_count": null,
   "id": "219cae46-76a5-486f-bc02-6a04a33d7f9d",
   "metadata": {
    "scrolled": false
   },
   "outputs": [],
   "source": [
    "def visualize_bursts(burst_dir, num_rows=10, num_cols=20, figwidth=20):\n",
    "    \n",
    "    bursts = sorted(os.listdir(burst_dir), key=lambda x: int(x[5:]))\n",
    "    \n",
    "    num_rows = min(num_rows, len(bursts))\n",
    "    \n",
    "    fig, axes = plt.subplots(num_rows, num_cols, figsize=(figwidth, figwidth*num_rows/num_cols))\n",
    "    if num_rows==1:\n",
    "        axes = axes.reshape(1, -1)\n",
    "    \n",
    "    for i in range(num_rows):\n",
    "        \n",
    "        shots = sorted(glob(f\"{burst_dir}/{bursts[i]}/*.tiff\"))\n",
    "        \n",
    "        # Calculate the step size\n",
    "        col_step = max(1, len(shots)//num_cols)\n",
    "        \n",
    "        col_files = []\n",
    "        for j,file in enumerate(shots[::col_step][:num_cols]): # Slice the shots to fit the number of columns\n",
    "            img = plt.imread(file)\n",
    "            axes[i][j].imshow(img[100:400, 200:500])\n",
    "            col_files.append(os.path.basename(file))\n",
    "\n",
    "        # set y-label to each row\n",
    "        axes[i][0].set_ylabel(f\"Burst{i+1}\", fontsize=8)\n",
    "\n",
    "    # set x-label to each col\n",
    "    for j, cfile in enumerate(col_files):\n",
    "        axes[-1][j].set_xlabel(cfile.split(\".\")[0], fontsize=8)\n",
    "\n",
    "    # Hide X and Y axes tick marks\n",
    "    for ax in axes.flatten():\n",
    "        ax.set_xticks([])\n",
    "        ax.set_yticks([])\n",
    "\n",
    "    fig.suptitle(f\"{'_'.join(burst_dir.split('/')[3:])}\")\n",
    "    plt.tight_layout()\n",
    "    \n",
    "    return fig, axes\n",
    "    # plt.show()\n",
    "\n",
    "    \n",
    "root_dir = \"../data/FS_LIDT_SEPT22/Sample_NF\"\n",
    "\n",
    "for dir_name in sorted(os.listdir(root_dir)):\n",
    "    \n",
    "    print(f\"Plotting {dir_name=}\")\n",
    "    \n",
    "    data_dir = f\"{root_dir}/{dir_name}\"\n",
    "    \n",
    "    plot_dir = f\"../data/visualization/{dir_name}\"\n",
    "    os.makedirs(plot_dir, exist_ok=True)\n",
    "    \n",
    "    \n",
    "    for row_id in tqdm(sorted(os.listdir(data_dir))):\n",
    "        \n",
    "        if not os.path.isdir(f\"{data_dir}/{row_id}\"):\n",
    "            continue\n",
    "            \n",
    "        for col_id in sorted(os.listdir(f\"{data_dir}/{row_id}\")):\n",
    "\n",
    "            fig, axes = visualize_bursts(f\"{data_dir}/{row_id}/{col_id}\")\n",
    "\n",
    "            fig.savefig(f\"{plot_dir}/{row_id}_{col_id}.png\", dpi=500)\n",
    "            plt.close('all')\n"
   ]
  },
  {
   "cell_type": "markdown",
   "id": "82e6341a",
   "metadata": {},
   "source": [
    "# Normalize image in range 0-255 and convert tiff -> png"
   ]
  },
  {
   "cell_type": "code",
   "execution_count": null,
   "id": "3b4737a6",
   "metadata": {
    "scrolled": false
   },
   "outputs": [],
   "source": [
    "src_data_dir = \"../data/FS_LIDT_SEPT22/Sample_NF\"\n",
    "dest_data_dir = \"../data/near_field/images\"\n",
    "\n",
    "for dir_name in sorted(os.listdir(src_data_dir)):\n",
    "    \n",
    "    print(\"Converting to PNG images\", dir_name)\n",
    "    shutil.rmtree(f\"{dest_data_dir}/{dir_name}\", ignore_errors=True)\n",
    "    \n",
    "    for row in sorted(os.listdir(f\"{root_dir}/{dir_name}\")):\n",
    "        for col in sorted(os.listdir(f\"{root_dir}/{dir_name}/{row}\")):\n",
    "            \n",
    "            dest_img_dir = f\"{dest_data_dir}/{dir_name}/{int(row[3]):02d}_{int(col[3]):02d}\"\n",
    "            os.makedirs(dest_img_dir, exist_ok=True)\n",
    "            \n",
    "            for burst in sorted(os.listdir(f\"{root_dir}/{dir_name}/{row}/{col}\")):\n",
    "                for shot in sorted(os.listdir(f\"{root_dir}/{dir_name}/{row}/{col}/{burst}\")):\n",
    "                    \n",
    "                    img = cv2.imread(f\"{root_dir}/{dir_name}/{row}/{col}/{burst}/{shot}\", cv2.IMREAD_UNCHANGED)\n",
    "                    img = (img-img.min())/(img.max()-img.min()) * 255\n",
    "                    cv2.imwrite(f\"{dest_img_dir}/burst{int(burst[5:]):02d}_shot{int(shot.split('.')[0][4:]):03d}.png\", img)\n"
   ]
  },
  {
   "cell_type": "markdown",
   "id": "24a6c6cd",
   "metadata": {},
   "source": [
    "# Create video from images"
   ]
  },
  {
   "cell_type": "code",
   "execution_count": null,
   "id": "299a1034",
   "metadata": {},
   "outputs": [],
   "source": [
    "src_data_dir = \"../data/near_field/images\"\n",
    "dest_data_dir = \"../data/videos\"\n",
    "\n",
    "shutil.rmtree(f\"{dest_data_dir}\", ignore_errors=True)\n",
    "os.makedirs(dest_data_dir, exist_ok=True)\n",
    "\n",
    "for dir_name in sorted(os.listdir(src_data_dir)):\n",
    "    print(f\"Creating videos of {dir_name}\")\n",
    "    \n",
    "    shutil.rmtree(f\"{dest_data_dir}/{dir_name}\", ignore_errors=True)\n",
    "    \n",
    "    for loc in sorted(os.listdir(f\"{src_data_dir}/{dir_name}\")):\n",
    "        \n",
    "        if len(loc.split('.'))>0:\n",
    "            continue\n",
    "            \n",
    "        create_video_from_images(f\"{src_data_dir}/{dir_name}/{loc}\", \n",
    "                                 f\"{dest_data_dir}/{dir_name}_{loc}.avi\", \n",
    "                                 fps=10, \n",
    "                                 display_text=True)\n",
    "        "
   ]
  },
  {
   "cell_type": "markdown",
   "id": "57738992",
   "metadata": {},
   "source": [
    "# Plot image/patch intensity"
   ]
  },
  {
   "cell_type": "code",
   "execution_count": null,
   "id": "2788a74b",
   "metadata": {},
   "outputs": [],
   "source": [
    "\n",
    "def agg_func(x, mode):\n",
    "    if mode=='mean':\n",
    "        return x.mean() if len(x)>0 else 0\n",
    "    elif mode=='sum':\n",
    "        return x.sum()\n",
    "    else:\n",
    "        raise Exception (f\"Mode to compute intensity not valid!\")\n",
    "    \n",
    "def img_intensity(img, mode='sum'):\n",
    "    # img = Image.open(file)\n",
    "    # img = np.asarray(img, dtype=\"int32\")/255\n",
    "    return agg_func(img, mode)\n",
    "\n",
    "def img_patch_intensity(img, patch_size=16, mode='sum'):\n",
    "    # img = Image.open(file)\n",
    "    # img = np.array(img, dtype='int32')/255\n",
    "    \n",
    "    img_height, img_width = img.shape\n",
    "    num_rows, num_cols = math.ceil(img_height/patch_size), math.ceil(img_width/patch_size)\n",
    "    \n",
    "    patch_ints = []\n",
    "    for y in range(0, img_height, patch_size):\n",
    "        for x in range(0, img_width, patch_size):\n",
    "            img_patch = img[y:y+patch_size, x:x+patch_size]\n",
    "            patch_ints.append(agg_func(img_patch, mode))\n",
    "\n",
    "    return np.array(patch_ints).reshape(num_rows, num_cols) \n"
   ]
  },
  {
   "cell_type": "markdown",
   "id": "00686b85",
   "metadata": {},
   "source": [
    "## Visualize a patch "
   ]
  },
  {
   "cell_type": "code",
   "execution_count": null,
   "id": "e4059b50",
   "metadata": {},
   "outputs": [],
   "source": [
    "\n",
    "frame_num = 611\n",
    "patch_size = 25\n",
    "px, py = (12, 12) # patch index/location\n",
    "\n",
    "img_dir = \"../data/near_field/images/Grating_A6/01_02\"\n",
    "\n",
    "img_files = sorted(glob(f\"{img_dir}/*\"))\n",
    "                   \n",
    "img = plt.imread(img_files[frame_num])\n",
    "\n",
    "fig, ax = create_figure(figsize=(8,5), title=f\"Frame{frame_num}\")\n",
    "ax.imshow(img)\n",
    "\n",
    "# add grid\n",
    "ax = add_grid_to_axes(ax, grid_size=patch_size, labelsize=4)\n",
    "\n",
    "# highlight the patch\n",
    "rect = mpl.patches.Rectangle((px*patch_size, py*patch_size), \n",
    "                             patch_size, patch_size, linewidth=1, \n",
    "                             edgecolor='r', facecolor='none')\n",
    "\n",
    "ax.add_patch(rect)\n"
   ]
  },
  {
   "cell_type": "markdown",
   "id": "4115d057",
   "metadata": {},
   "source": [
    "# Visualize specific patch over time (moving from left to right and top to bottom)"
   ]
  },
  {
   "cell_type": "code",
   "execution_count": null,
   "id": "d3fcb8e7",
   "metadata": {
    "scrolled": false
   },
   "outputs": [],
   "source": [
    "x, y = int(patch_idx[0]*patch_size), int(patch_idx[1]*patch_size)\n",
    "\n",
    "img_patches = []\n",
    "for file in img_files:\n",
    "    img = plt.imread(file)\n",
    "    img_patches.append(img[y:y+patch_size, x:x+patch_size])\n",
    "\n",
    "# visualzie sampled patches across frames (to save time)\n",
    "sample_step = 2\n",
    "sampled_img_patches= img_patches[::sample_step]\n",
    "\n",
    "nrows = int(np.sqrt(len(sampled_img_patches)))\n",
    "ncols = math.ceil(len(sampled_img_patches)/nrows)\n",
    "\n",
    "fig, axes = create_figure(nrows, ncols, figwidth=12, axis_off=True)\n",
    "axes = np.ravel(axes)\n",
    "\n",
    "for i, patch in enumerate(sampled_img_patches):\n",
    "    axes[i].imshow(patch, vmin=0, vmax=1) \n",
    "    axes[i].set_title(str(i*sample_step), color='r', fontsize=5, va='top')\n",
    "    "
   ]
  },
  {
   "cell_type": "markdown",
   "id": "c353a4ea",
   "metadata": {},
   "source": [
    "# Plot time-series patch intensity"
   ]
  },
  {
   "cell_type": "code",
   "execution_count": null,
   "id": "b1de2bf7",
   "metadata": {
    "scrolled": false
   },
   "outputs": [],
   "source": [
    "%load_ext autoreload\n",
    "%autoreload 2\n",
    "\n",
    "from visualization.vis_utils import *\n",
    "\n",
    "colors = np.random.rand(1000, 3)\n",
    "patch_ints = [patch.sum() for patch in img_patches]\n",
    "\n",
    "fig, ax = create_figure(figsize=(8,5))\n",
    "\n",
    "ax.plot(patch_ints, color=colors[0], label='Intensity')\n",
    "# ax.plot(patch_ints[1:]-patch_ints[:-1], color=colors[0], label='IntensityDiff')\n",
    "\n",
    "patch_gradients = [img_gradient(patch).sum() for patch in img_patches]\n",
    "ax.plot(patch_gradients, color=colors[0], label='Gradients')\n",
    "ax = add_grid_to_axes(ax, grid_size=(5, 20), labelsize=4, minor_ticks=True)\n"
   ]
  },
  {
   "cell_type": "code",
   "execution_count": null,
   "id": "c37673fd",
   "metadata": {},
   "outputs": [],
   "source": [
    "fig, ax = create_figure(figsize=(8,5))\n",
    "img_gradients = [img_gradient(plt.imread(file)) for file in img_files]\n",
    "ax.plot(img_gradients)"
   ]
  },
  {
   "cell_type": "markdown",
   "id": "e84e7fca",
   "metadata": {},
   "source": [
    "## Generate class labels "
   ]
  },
  {
   "cell_type": "code",
   "execution_count": null,
   "id": "f2a538d7",
   "metadata": {},
   "outputs": [],
   "source": [
    "data_dir = '../data/near_field'\n",
    "dset = 'Grating_A6'\n",
    "loc = '01_02'\n",
    "\n",
    "img_files = sorted(glob(f\"{data_dir}/images/{dset}/{loc}/*\"))\n",
    "print(f\"{len(img_files)=}\")\n",
    "\n",
    "os.makedirs(f\"{data_dir}/labels/{dset}\", exist_ok=True)\n",
    "with open(f\"{data_dir}/labels/{dset}/{loc}.txt\", 'w+') as f:\n",
    "    for idx in range(len(img_files)):\n",
    "        img_file = '/'.join(img_files[idx].split('/')[-3:])\n",
    "        label = 1 if idx>610 else 0\n",
    "        f.write(img_file + ',' + str(label) + '\\n')\n",
    "\n",
    "    print(f\"{idx} labels \")"
   ]
  },
  {
   "cell_type": "code",
   "execution_count": null,
   "id": "d656cbea",
   "metadata": {},
   "outputs": [],
   "source": [
    "from utils.misc import load_file\n",
    "\n",
    "val_split = 0.3\n",
    "\n",
    "train_labels = []\n",
    "val_labels = []\n",
    "\n",
    "for file in sorted(os.listdir(f\"{data_dir}/labels/{dset}\")):\n",
    "    \n",
    "    # # Separate the labels into classes\n",
    "    cls_dict = defaultdict(list)\n",
    "    for label in load_file(f\"{data_dir}/labels/{dset}/{file}\"):\n",
    "        _, c = label.split(',')\n",
    "        cls_dict[c].append(label)\n",
    "    \n",
    "    # Split each class labels into training and validation sets                           \n",
    "    for c, class_labels in cls_dict.items():\n",
    "        print(f\"{c=}, {len(class_labels)} images \")\n",
    "        split_indx = int(len(class_labels)*(1-val_split))\n",
    "        train_labels.extend(class_labels[:split_indx])\n",
    "        val_labels.extend(class_labels[split_indx:])\n",
    "\n",
    "print(f\"train labels: {len(train_labels)}\")\n",
    "print(f\"val labels: {len(val_labels)}\")"
   ]
  },
  {
   "cell_type": "code",
   "execution_count": null,
   "id": "933ffeb7",
   "metadata": {},
   "outputs": [],
   "source": [
    "611+289"
   ]
  },
  {
   "cell_type": "code",
   "execution_count": null,
   "id": "765978e0",
   "metadata": {},
   "outputs": [],
   "source": [
    "img_labels = np.genfromtxt(f\"{data_dir}/labels/{dset}/{file}\")\n",
    "print(img_labels)"
   ]
  }
 ],
 "metadata": {
  "kernelspec": {
   "display_name": "Python [conda env:root]",
   "language": "python",
   "name": "conda-root-py"
  },
  "language_info": {
   "codemirror_mode": {
    "name": "ipython",
    "version": 3
   },
   "file_extension": ".py",
   "mimetype": "text/x-python",
   "name": "python",
   "nbconvert_exporter": "python",
   "pygments_lexer": "ipython3",
   "version": "3.10.14"
  }
 },
 "nbformat": 4,
 "nbformat_minor": 5
}
